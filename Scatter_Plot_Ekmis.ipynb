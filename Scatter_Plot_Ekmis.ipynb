{
  "nbformat": 4,
  "nbformat_minor": 0,
  "metadata": {
    "colab": {
      "name": "Scatter Plot Ekmis.ipynb",
      "provenance": []
    },
    "kernelspec": {
      "name": "python3",
      "display_name": "Python 3"
    }
  },
  "cells": [
    {
      "cell_type": "code",
      "metadata": {
        "colab": {
          "resources": {
            "http://localhost:8080/nbextensions/google.colab/files.js": {
              "data": "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",
              "ok": true,
              "headers": [
                [
                  "content-type",
                  "application/javascript"
                ]
              ],
              "status": 200,
              "status_text": ""
            }
          },
          "base_uri": "https://localhost:8080/",
          "height": 89
        },
        "id": "DewFE77SprOw",
        "outputId": "c7f9a7a8-d6b1-4d41-e70a-e7035e994153"
      },
      "source": [
        "from google.colab import files\n",
        "uploaded = files.upload()"
      ],
      "execution_count": 1,
      "outputs": [
        {
          "output_type": "display_data",
          "data": {
            "text/html": [
              "\n",
              "     <input type=\"file\" id=\"files-edc1d7b6-7a77-4cb9-8a57-0f542d234f29\" name=\"files[]\" multiple disabled\n",
              "        style=\"border:none\" />\n",
              "     <output id=\"result-edc1d7b6-7a77-4cb9-8a57-0f542d234f29\">\n",
              "      Upload widget is only available when the cell has been executed in the\n",
              "      current browser session. Please rerun this cell to enable.\n",
              "      </output>\n",
              "      <script src=\"/nbextensions/google.colab/files.js\"></script> "
            ],
            "text/plain": [
              "<IPython.core.display.HTML object>"
            ]
          },
          "metadata": {
            "tags": []
          }
        },
        {
          "output_type": "stream",
          "text": [
            "Saving Kemiskinan-TPT 2020.xlsx to Kemiskinan-TPT 2020.xlsx\n"
          ],
          "name": "stdout"
        }
      ]
    },
    {
      "cell_type": "code",
      "metadata": {
        "id": "etvyXHotrNeP"
      },
      "source": [
        "import matplotlib.pyplot as plt\n",
        "import pandas as pd\n",
        "import numpy as np\n"
      ],
      "execution_count": 30,
      "outputs": []
    },
    {
      "cell_type": "code",
      "metadata": {
        "colab": {
          "base_uri": "https://localhost:8080/",
          "height": 204
        },
        "id": "LrT9vuV4riUA",
        "outputId": "5e62a3e6-fb68-461f-a241-2ec080314056"
      },
      "source": [
        "df = pd.read_excel('ekmis.xlsx')\n",
        "df.head()"
      ],
      "execution_count": 4,
      "outputs": [
        {
          "output_type": "execute_result",
          "data": {
            "text/html": [
              "<div>\n",
              "<style scoped>\n",
              "    .dataframe tbody tr th:only-of-type {\n",
              "        vertical-align: middle;\n",
              "    }\n",
              "\n",
              "    .dataframe tbody tr th {\n",
              "        vertical-align: top;\n",
              "    }\n",
              "\n",
              "    .dataframe thead th {\n",
              "        text-align: right;\n",
              "    }\n",
              "</style>\n",
              "<table border=\"1\" class=\"dataframe\">\n",
              "  <thead>\n",
              "    <tr style=\"text-align: right;\">\n",
              "      <th></th>\n",
              "      <th>Unnamed: 0</th>\n",
              "      <th>Unnamed: 1</th>\n",
              "      <th>Unnamed: 2</th>\n",
              "    </tr>\n",
              "  </thead>\n",
              "  <tbody>\n",
              "    <tr>\n",
              "      <th>0</th>\n",
              "      <td>Provinsi</td>\n",
              "      <td>TPT</td>\n",
              "      <td>Miskin</td>\n",
              "    </tr>\n",
              "    <tr>\n",
              "      <th>1</th>\n",
              "      <td>ACEH</td>\n",
              "      <td>6.59</td>\n",
              "      <td>9.84</td>\n",
              "    </tr>\n",
              "    <tr>\n",
              "      <th>2</th>\n",
              "      <td>SUMATERA UTARA</td>\n",
              "      <td>6.91</td>\n",
              "      <td>8.73</td>\n",
              "    </tr>\n",
              "    <tr>\n",
              "      <th>3</th>\n",
              "      <td>SUMATERA BARAT</td>\n",
              "      <td>6.88</td>\n",
              "      <td>4.97</td>\n",
              "    </tr>\n",
              "    <tr>\n",
              "      <th>4</th>\n",
              "      <td>RIAU</td>\n",
              "      <td>6.32</td>\n",
              "      <td>6.12</td>\n",
              "    </tr>\n",
              "  </tbody>\n",
              "</table>\n",
              "</div>"
            ],
            "text/plain": [
              "       Unnamed: 0 Unnamed: 1 Unnamed: 2\n",
              "0        Provinsi        TPT     Miskin\n",
              "1            ACEH       6.59       9.84\n",
              "2  SUMATERA UTARA       6.91       8.73\n",
              "3  SUMATERA BARAT       6.88       4.97\n",
              "4            RIAU       6.32       6.12"
            ]
          },
          "metadata": {
            "tags": []
          },
          "execution_count": 4
        }
      ]
    },
    {
      "cell_type": "code",
      "metadata": {
        "colab": {
          "base_uri": "https://localhost:8080/"
        },
        "id": "0rr8aRrNseAc",
        "outputId": "4f409646-2b32-48ab-8f46-f895f3c6e7de"
      },
      "source": [
        "df_ekmis = df\n",
        "df_ekmis.rename(columns = {'Unnamed: 0':'Provinsi', 'Unnamed: 1':'TPT', 'Unnamed: 2':'Miskin'}, inplace=True)\n",
        "print(df_ekmis.columns)"
      ],
      "execution_count": 5,
      "outputs": [
        {
          "output_type": "stream",
          "text": [
            "Index(['Provinsi', 'TPT', 'Miskin'], dtype='object')\n"
          ],
          "name": "stdout"
        }
      ]
    },
    {
      "cell_type": "code",
      "metadata": {
        "colab": {
          "base_uri": "https://localhost:8080/",
          "height": 1000
        },
        "id": "zYA-1goFugXp",
        "outputId": "7ea5783a-4603-4af6-b21f-db4049a22fcf"
      },
      "source": [
        "update_df = df_ekmis.drop([0]) \n",
        "update_df"
      ],
      "execution_count": 16,
      "outputs": [
        {
          "output_type": "execute_result",
          "data": {
            "text/html": [
              "<div>\n",
              "<style scoped>\n",
              "    .dataframe tbody tr th:only-of-type {\n",
              "        vertical-align: middle;\n",
              "    }\n",
              "\n",
              "    .dataframe tbody tr th {\n",
              "        vertical-align: top;\n",
              "    }\n",
              "\n",
              "    .dataframe thead th {\n",
              "        text-align: right;\n",
              "    }\n",
              "</style>\n",
              "<table border=\"1\" class=\"dataframe\">\n",
              "  <thead>\n",
              "    <tr style=\"text-align: right;\">\n",
              "      <th></th>\n",
              "      <th>Provinsi</th>\n",
              "      <th>TPT</th>\n",
              "      <th>Miskin</th>\n",
              "    </tr>\n",
              "  </thead>\n",
              "  <tbody>\n",
              "    <tr>\n",
              "      <th>1</th>\n",
              "      <td>ACEH</td>\n",
              "      <td>6.59</td>\n",
              "      <td>9.84</td>\n",
              "    </tr>\n",
              "    <tr>\n",
              "      <th>2</th>\n",
              "      <td>SUMATERA UTARA</td>\n",
              "      <td>6.91</td>\n",
              "      <td>8.73</td>\n",
              "    </tr>\n",
              "    <tr>\n",
              "      <th>3</th>\n",
              "      <td>SUMATERA BARAT</td>\n",
              "      <td>6.88</td>\n",
              "      <td>4.97</td>\n",
              "    </tr>\n",
              "    <tr>\n",
              "      <th>4</th>\n",
              "      <td>RIAU</td>\n",
              "      <td>6.32</td>\n",
              "      <td>6.12</td>\n",
              "    </tr>\n",
              "    <tr>\n",
              "      <th>5</th>\n",
              "      <td>JAMBI</td>\n",
              "      <td>5.13</td>\n",
              "      <td>10.41</td>\n",
              "    </tr>\n",
              "    <tr>\n",
              "      <th>6</th>\n",
              "      <td>SUMATERA SELATAN</td>\n",
              "      <td>5.51</td>\n",
              "      <td>12.16</td>\n",
              "    </tr>\n",
              "    <tr>\n",
              "      <th>7</th>\n",
              "      <td>BENGKULU</td>\n",
              "      <td>4.07</td>\n",
              "      <td>14.77</td>\n",
              "    </tr>\n",
              "    <tr>\n",
              "      <th>8</th>\n",
              "      <td>LAMPUNG</td>\n",
              "      <td>4.67</td>\n",
              "      <td>9.02</td>\n",
              "    </tr>\n",
              "    <tr>\n",
              "      <th>9</th>\n",
              "      <td>KEP. BANGKA BELITUNG</td>\n",
              "      <td>5.25</td>\n",
              "      <td>3.06</td>\n",
              "    </tr>\n",
              "    <tr>\n",
              "      <th>10</th>\n",
              "      <td>KEP. RIAU</td>\n",
              "      <td>10.34</td>\n",
              "      <td>5.42</td>\n",
              "    </tr>\n",
              "    <tr>\n",
              "      <th>11</th>\n",
              "      <td>DKI JAKARTA</td>\n",
              "      <td>10.95</td>\n",
              "      <td>4.53</td>\n",
              "    </tr>\n",
              "    <tr>\n",
              "      <th>12</th>\n",
              "      <td>JAWA BARAT</td>\n",
              "      <td>10.46</td>\n",
              "      <td>7.14</td>\n",
              "    </tr>\n",
              "    <tr>\n",
              "      <th>13</th>\n",
              "      <td>JAWA TENGAH</td>\n",
              "      <td>6.48</td>\n",
              "      <td>10.09</td>\n",
              "    </tr>\n",
              "    <tr>\n",
              "      <th>14</th>\n",
              "      <td>DI YOGYAKARTA</td>\n",
              "      <td>4.57</td>\n",
              "      <td>11.53</td>\n",
              "    </tr>\n",
              "    <tr>\n",
              "      <th>15</th>\n",
              "      <td>JAWA TIMUR</td>\n",
              "      <td>5.84</td>\n",
              "      <td>7.89</td>\n",
              "    </tr>\n",
              "    <tr>\n",
              "      <th>16</th>\n",
              "      <td>BANTEN</td>\n",
              "      <td>10.64</td>\n",
              "      <td>5.03</td>\n",
              "    </tr>\n",
              "    <tr>\n",
              "      <th>17</th>\n",
              "      <td>BALI</td>\n",
              "      <td>5.63</td>\n",
              "      <td>3.33</td>\n",
              "    </tr>\n",
              "    <tr>\n",
              "      <th>18</th>\n",
              "      <td>NUSA TENGGARA BARAT</td>\n",
              "      <td>4.22</td>\n",
              "      <td>14.9</td>\n",
              "    </tr>\n",
              "    <tr>\n",
              "      <th>19</th>\n",
              "      <td>NUSA TENGGARA TIMUR</td>\n",
              "      <td>4.28</td>\n",
              "      <td>8.64</td>\n",
              "    </tr>\n",
              "    <tr>\n",
              "      <th>20</th>\n",
              "      <td>KALIMANTAN BARAT</td>\n",
              "      <td>5.81</td>\n",
              "      <td>4.69</td>\n",
              "    </tr>\n",
              "    <tr>\n",
              "      <th>21</th>\n",
              "      <td>KALIMANTAN TENGAH</td>\n",
              "      <td>4.58</td>\n",
              "      <td>4.62</td>\n",
              "    </tr>\n",
              "    <tr>\n",
              "      <th>22</th>\n",
              "      <td>KALIMANTAN SELATAN</td>\n",
              "      <td>4.74</td>\n",
              "      <td>3.61</td>\n",
              "    </tr>\n",
              "    <tr>\n",
              "      <th>23</th>\n",
              "      <td>KALIMANTAN TIMUR</td>\n",
              "      <td>6.87</td>\n",
              "      <td>4.45</td>\n",
              "    </tr>\n",
              "    <tr>\n",
              "      <th>24</th>\n",
              "      <td>KALIMANTAN UTARA</td>\n",
              "      <td>4.97</td>\n",
              "      <td>5.06</td>\n",
              "    </tr>\n",
              "    <tr>\n",
              "      <th>25</th>\n",
              "      <td>SULAWESI UTARA</td>\n",
              "      <td>7.37</td>\n",
              "      <td>5.22</td>\n",
              "    </tr>\n",
              "    <tr>\n",
              "      <th>26</th>\n",
              "      <td>SULAWESI TENGAH</td>\n",
              "      <td>3.77</td>\n",
              "      <td>8.76</td>\n",
              "    </tr>\n",
              "    <tr>\n",
              "      <th>27</th>\n",
              "      <td>SULAWESI SELATAN</td>\n",
              "      <td>6.31</td>\n",
              "      <td>4.49</td>\n",
              "    </tr>\n",
              "    <tr>\n",
              "      <th>28</th>\n",
              "      <td>SULAWESI TENGGARA</td>\n",
              "      <td>4.58</td>\n",
              "      <td>7.14</td>\n",
              "    </tr>\n",
              "    <tr>\n",
              "      <th>29</th>\n",
              "      <td>GORONTALO</td>\n",
              "      <td>4.28</td>\n",
              "      <td>3.97</td>\n",
              "    </tr>\n",
              "    <tr>\n",
              "      <th>30</th>\n",
              "      <td>SULAWESI BARAT</td>\n",
              "      <td>3.32</td>\n",
              "      <td>9.59</td>\n",
              "    </tr>\n",
              "    <tr>\n",
              "      <th>31</th>\n",
              "      <td>MALUKU</td>\n",
              "      <td>7.57</td>\n",
              "      <td>6.23</td>\n",
              "    </tr>\n",
              "    <tr>\n",
              "      <th>32</th>\n",
              "      <td>MALUKU UTARA</td>\n",
              "      <td>5.15</td>\n",
              "      <td>4.53</td>\n",
              "    </tr>\n",
              "    <tr>\n",
              "      <th>33</th>\n",
              "      <td>PAPUA BARAT</td>\n",
              "      <td>6.8</td>\n",
              "      <td>5.85</td>\n",
              "    </tr>\n",
              "    <tr>\n",
              "      <th>34</th>\n",
              "      <td>PAPUA</td>\n",
              "      <td>4.28</td>\n",
              "      <td>4.47</td>\n",
              "    </tr>\n",
              "    <tr>\n",
              "      <th>35</th>\n",
              "      <td>INDONESIA</td>\n",
              "      <td>7.07</td>\n",
              "      <td>7.38</td>\n",
              "    </tr>\n",
              "  </tbody>\n",
              "</table>\n",
              "</div>"
            ],
            "text/plain": [
              "                Provinsi    TPT Miskin\n",
              "1                   ACEH   6.59   9.84\n",
              "2         SUMATERA UTARA   6.91   8.73\n",
              "3         SUMATERA BARAT   6.88   4.97\n",
              "4                   RIAU   6.32   6.12\n",
              "5                  JAMBI   5.13  10.41\n",
              "6       SUMATERA SELATAN   5.51  12.16\n",
              "7               BENGKULU   4.07  14.77\n",
              "8                LAMPUNG   4.67   9.02\n",
              "9   KEP. BANGKA BELITUNG   5.25   3.06\n",
              "10             KEP. RIAU  10.34   5.42\n",
              "11           DKI JAKARTA  10.95   4.53\n",
              "12            JAWA BARAT  10.46   7.14\n",
              "13           JAWA TENGAH   6.48  10.09\n",
              "14         DI YOGYAKARTA   4.57  11.53\n",
              "15            JAWA TIMUR   5.84   7.89\n",
              "16                BANTEN  10.64   5.03\n",
              "17                  BALI   5.63   3.33\n",
              "18   NUSA TENGGARA BARAT   4.22   14.9\n",
              "19   NUSA TENGGARA TIMUR   4.28   8.64\n",
              "20      KALIMANTAN BARAT   5.81   4.69\n",
              "21     KALIMANTAN TENGAH   4.58   4.62\n",
              "22    KALIMANTAN SELATAN   4.74   3.61\n",
              "23      KALIMANTAN TIMUR   6.87   4.45\n",
              "24      KALIMANTAN UTARA   4.97   5.06\n",
              "25        SULAWESI UTARA   7.37   5.22\n",
              "26       SULAWESI TENGAH   3.77   8.76\n",
              "27      SULAWESI SELATAN   6.31   4.49\n",
              "28     SULAWESI TENGGARA   4.58   7.14\n",
              "29             GORONTALO   4.28   3.97\n",
              "30        SULAWESI BARAT   3.32   9.59\n",
              "31                MALUKU   7.57   6.23\n",
              "32          MALUKU UTARA   5.15   4.53\n",
              "33           PAPUA BARAT    6.8   5.85\n",
              "34                 PAPUA   4.28   4.47\n",
              "35             INDONESIA   7.07   7.38"
            ]
          },
          "metadata": {
            "tags": []
          },
          "execution_count": 16
        }
      ]
    },
    {
      "cell_type": "code",
      "metadata": {
        "colab": {
          "base_uri": "https://localhost:8080/"
        },
        "id": "3Rzbjsvb5dK1",
        "outputId": "b08e2804-ea25-47d2-ed1b-72fce70265de"
      },
      "source": [
        "update_df.to_numpy()"
      ],
      "execution_count": 31,
      "outputs": [
        {
          "output_type": "execute_result",
          "data": {
            "text/plain": [
              "array([['ACEH', 6.59, 9.84],\n",
              "       ['SUMATERA UTARA', 6.91, 8.73],\n",
              "       ['SUMATERA BARAT', 6.88, 4.97],\n",
              "       ['RIAU', 6.32, 6.12],\n",
              "       ['JAMBI', 5.13, 10.41],\n",
              "       ['SUMATERA SELATAN', 5.51, 12.16],\n",
              "       ['BENGKULU', 4.07, 14.77],\n",
              "       ['LAMPUNG', 4.67, 9.02],\n",
              "       ['KEP. BANGKA BELITUNG', 5.25, 3.06],\n",
              "       ['KEP. RIAU', 10.34, 5.42],\n",
              "       ['DKI JAKARTA', 10.95, 4.53],\n",
              "       ['JAWA BARAT', 10.46, 7.14],\n",
              "       ['JAWA TENGAH', 6.48, 10.09],\n",
              "       ['DI YOGYAKARTA', 4.57, 11.53],\n",
              "       ['JAWA TIMUR', 5.84, 7.89],\n",
              "       ['BANTEN', 10.64, 5.03],\n",
              "       ['BALI', 5.63, 3.33],\n",
              "       ['NUSA TENGGARA BARAT', 4.22, 14.9],\n",
              "       ['NUSA TENGGARA TIMUR', 4.28, 8.64],\n",
              "       ['KALIMANTAN BARAT', 5.81, 4.69],\n",
              "       ['KALIMANTAN TENGAH', 4.58, 4.62],\n",
              "       ['KALIMANTAN SELATAN', 4.74, 3.61],\n",
              "       ['KALIMANTAN TIMUR', 6.87, 4.45],\n",
              "       ['KALIMANTAN UTARA', 4.97, 5.06],\n",
              "       ['SULAWESI UTARA', 7.37, 5.22],\n",
              "       ['SULAWESI TENGAH', 3.77, 8.76],\n",
              "       ['SULAWESI SELATAN', 6.31, 4.49],\n",
              "       ['SULAWESI TENGGARA', 4.58, 7.14],\n",
              "       ['GORONTALO', 4.28, 3.97],\n",
              "       ['SULAWESI BARAT', 3.32, 9.59],\n",
              "       ['MALUKU', 7.57, 6.23],\n",
              "       ['MALUKU UTARA', 5.15, 4.53],\n",
              "       ['PAPUA BARAT', 6.8, 5.85],\n",
              "       ['PAPUA', 4.28, 4.47],\n",
              "       ['INDONESIA', 7.07, 7.38]], dtype=object)"
            ]
          },
          "metadata": {
            "tags": []
          },
          "execution_count": 31
        }
      ]
    },
    {
      "cell_type": "code",
      "metadata": {
        "colab": {
          "base_uri": "https://localhost:8080/"
        },
        "id": "rDiWZNuz9MMa",
        "outputId": "50f2ecaf-3ee5-4a43-8f07-7797bcca0a98"
      },
      "source": [
        "print('DataFrame\\n----------\\n', update_df)"
      ],
      "execution_count": 33,
      "outputs": [
        {
          "output_type": "stream",
          "text": [
            "DataFrame\n",
            "----------\n",
            "                 Provinsi    TPT Miskin\n",
            "1                   ACEH   6.59   9.84\n",
            "2         SUMATERA UTARA   6.91   8.73\n",
            "3         SUMATERA BARAT   6.88   4.97\n",
            "4                   RIAU   6.32   6.12\n",
            "5                  JAMBI   5.13  10.41\n",
            "6       SUMATERA SELATAN   5.51  12.16\n",
            "7               BENGKULU   4.07  14.77\n",
            "8                LAMPUNG   4.67   9.02\n",
            "9   KEP. BANGKA BELITUNG   5.25   3.06\n",
            "10             KEP. RIAU  10.34   5.42\n",
            "11           DKI JAKARTA  10.95   4.53\n",
            "12            JAWA BARAT  10.46   7.14\n",
            "13           JAWA TENGAH   6.48  10.09\n",
            "14         DI YOGYAKARTA   4.57  11.53\n",
            "15            JAWA TIMUR   5.84   7.89\n",
            "16                BANTEN  10.64   5.03\n",
            "17                  BALI   5.63   3.33\n",
            "18   NUSA TENGGARA BARAT   4.22   14.9\n",
            "19   NUSA TENGGARA TIMUR   4.28   8.64\n",
            "20      KALIMANTAN BARAT   5.81   4.69\n",
            "21     KALIMANTAN TENGAH   4.58   4.62\n",
            "22    KALIMANTAN SELATAN   4.74   3.61\n",
            "23      KALIMANTAN TIMUR   6.87   4.45\n",
            "24      KALIMANTAN UTARA   4.97   5.06\n",
            "25        SULAWESI UTARA   7.37   5.22\n",
            "26       SULAWESI TENGAH   3.77   8.76\n",
            "27      SULAWESI SELATAN   6.31   4.49\n",
            "28     SULAWESI TENGGARA   4.58   7.14\n",
            "29             GORONTALO   4.28   3.97\n",
            "30        SULAWESI BARAT   3.32   9.59\n",
            "31                MALUKU   7.57   6.23\n",
            "32          MALUKU UTARA   5.15   4.53\n",
            "33           PAPUA BARAT    6.8   5.85\n",
            "34                 PAPUA   4.28   4.47\n",
            "35             INDONESIA   7.07   7.38\n"
          ],
          "name": "stdout"
        }
      ]
    },
    {
      "cell_type": "code",
      "metadata": {
        "colab": {
          "base_uri": "https://localhost:8080/"
        },
        "id": "-bS5PfZa-kyZ",
        "outputId": "315b1b51-3618-491a-e93f-6eba76c9f23d"
      },
      "source": [
        "x = update_df[\"TPT\"].tolist()\n",
        "print(x)\n",
        "y = update_df[\"Miskin\"].tolist()\n",
        "print(y)\n",
        "n = update_df[\"Provinsi\"].tolist()\n",
        "for item in n:\n",
        "    item.lower()\n",
        "print(n)"
      ],
      "execution_count": 58,
      "outputs": [
        {
          "output_type": "stream",
          "text": [
            "[6.59, 6.91, 6.88, 6.32, 5.13, 5.51, 4.07, 4.67, 5.25, 10.34, 10.95, 10.46, 6.48, 4.57, 5.84, 10.64, 5.63, 4.22, 4.28, 5.81, 4.58, 4.74, 6.87, 4.97, 7.37, 3.77, 6.31, 4.58, 4.28, 3.32, 7.57, 5.15, 6.8, 4.28, 7.07]\n",
            "[9.84, 8.73, 4.97, 6.12, 10.41, 12.16, 14.77, 9.02, 3.06, 5.42, 4.53, 7.14, 10.09, 11.53, 7.89, 5.03, 3.33, 14.9, 8.64, 4.69, 4.62, 3.61, 4.45, 5.06, 5.22, 8.76, 4.49, 7.14, 3.97, 9.59, 6.23, 4.53, 5.85, 4.47, 7.38]\n",
            "['ACEH', 'SUMATERA UTARA', 'SUMATERA BARAT', 'RIAU', 'JAMBI', 'SUMATERA SELATAN', 'BENGKULU', 'LAMPUNG', 'KEP. BANGKA BELITUNG', 'KEP. RIAU', 'DKI JAKARTA', 'JAWA BARAT', 'JAWA TENGAH', 'DI YOGYAKARTA', 'JAWA TIMUR', 'BANTEN', 'BALI', 'NUSA TENGGARA BARAT', 'NUSA TENGGARA TIMUR', 'KALIMANTAN BARAT', 'KALIMANTAN TENGAH', 'KALIMANTAN SELATAN', 'KALIMANTAN TIMUR', 'KALIMANTAN UTARA', 'SULAWESI UTARA', 'SULAWESI TENGAH', 'SULAWESI SELATAN', 'SULAWESI TENGGARA', 'GORONTALO', 'SULAWESI BARAT', 'MALUKU', 'MALUKU UTARA', 'PAPUA BARAT', 'PAPUA', 'INDONESIA']\n"
          ],
          "name": "stdout"
        }
      ]
    },
    {
      "cell_type": "code",
      "metadata": {
        "colab": {
          "base_uri": "https://localhost:8080/",
          "height": 621
        },
        "id": "BuROj6zg_EVo",
        "outputId": "ac010cf0-d796-49a9-d769-0c2769b1ae26"
      },
      "source": [
        "plt.figure(figsize=(15,10))\n",
        "plt.scatter(x,y,c='blue')\n",
        "\n",
        "plt.title('Scatter Plot Tingkat Kemiskinan dan TPT')\n",
        "plt.xlabel('TPT')\n",
        "plt.ylabel('Kemiskinan')\n",
        "\n",
        "plt.axvline(x=x[34])\n",
        "plt.axhline(y=y[34])\n",
        "\n",
        "for i, txt in enumerate(n):\n",
        "    plt.annotate(txt, (x[i], y[i]))\n",
        "\n",
        "plt.savefig('scatter plot ekmis.png')"
      ],
      "execution_count": 67,
      "outputs": [
        {
          "output_type": "display_data",
          "data": {
            "image/png": "[encoded data removed]",
            "text/plain": [
              "<Figure size 1080x720 with 1 Axes>"
            ]
          },
          "metadata": {
            "tags": [],
            "needs_background": "light"
          }
        }
      ]
    }
  ]
}